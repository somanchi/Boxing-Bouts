{
 "cells": [
  {
   "cell_type": "code",
   "execution_count": 3,
   "metadata": {},
   "outputs": [],
   "source": [
    "import numpy as np\n",
    "import matplotlib.pyplot as plt\n",
    "import pandas as pd\n",
    "from scipy import stats\n",
    "from sklearn.cluster import KMeans\n",
    "import matplotlib.pyplot as plt\n",
    "import seaborn as sns\n",
    "import sklearn.metrics as sk\n",
    "from sklearn.ensemble import RandomForestClassifier\n",
    "from sklearn.datasets import make_classification\n",
    "from sklearn.mixture import GaussianMixture"
   ]
  },
  {
   "cell_type": "code",
   "execution_count": 4,
   "metadata": {},
   "outputs": [],
   "source": [
    "df = pd.read_csv('boxing-bouts.csv')"
   ]
  },
  {
   "cell_type": "code",
   "execution_count": 5,
   "metadata": {},
   "outputs": [],
   "source": [
    "df_tr = df"
   ]
  },
  {
   "cell_type": "code",
   "execution_count": 6,
   "metadata": {},
   "outputs": [],
   "source": [
    "df_tr1 = df"
   ]
  },
  {
   "cell_type": "code",
   "execution_count": 7,
   "metadata": {},
   "outputs": [],
   "source": [
    "df_tr1 =  df_tr1.drop('result',1) #feature set"
   ]
  },
  {
   "cell_type": "code",
   "execution_count": 8,
   "metadata": {},
   "outputs": [],
   "source": [
    "y = pd.factorize(df_tr['result'])[0]"
   ]
  },
  {
   "cell_type": "code",
   "execution_count": 17,
   "metadata": {},
   "outputs": [
    {
     "data": {
      "text/plain": [
       "GaussianMixture(covariance_type='full', init_params='kmeans', max_iter=100,\n",
       "        means_init=None, n_components=3, n_init=1, precisions_init=None,\n",
       "        random_state=None, reg_covar=1e-06, tol=0.001, verbose=0,\n",
       "        verbose_interval=10, warm_start=False, weights_init=None)"
      ]
     },
     "execution_count": 17,
     "metadata": {},
     "output_type": "execute_result"
    }
   ],
   "source": [
    "gmm = GaussianMixture(n_components=3)\n",
    "gmm.fit(df_tr1)"
   ]
  },
  {
   "cell_type": "code",
   "execution_count": 18,
   "metadata": {},
   "outputs": [
    {
     "name": "stdout",
     "output_type": "stream",
     "text": [
      "[[ 25.2387468   28.81494072 176.25795076 174.24257106 179.98343652\n",
      "  177.99871425 154.05026347 154.20089063   8.40331834   6.16083864\n",
      "    1.71859407   6.97016597   0.33688671   0.61830011   5.20382061\n",
      "    3.37686822  47.74174184  43.82570626  47.55330888  43.82570626\n",
      "   47.55330888  43.82570626]\n",
      " [ 24.05477418  26.07657111 172.48223235 172.8066451  178.15561199\n",
      "  178.07905618 141.42541874 141.59468387  25.14586203  15.87719122\n",
      "    6.1275978    8.52305888   3.3524792    3.01735746  10.92578865\n",
      "    6.25822064  59.          54.          58.          54.\n",
      "   58.          54.        ]\n",
      " [ 25.71341173  27.31039428 173.93702949 173.36104986 178.24144321\n",
      "  178.20573627 143.22092772 143.25719743  16.2055175   13.83423492\n",
      "    3.14186545   9.52155125   0.7965951    1.26660243   8.56906836\n",
      "    6.85400625  65.17044062  61.37658179  62.55331045  59.64392223\n",
      "   63.52747141  60.67310839]]\n",
      "\n",
      "\n",
      "[[[ 2.41226391e+01  5.47466766e+00  8.02670892e+00 ...  1.36714922e+01\n",
      "    1.41870474e+01  1.36714922e+01]\n",
      "  [ 5.47466766e+00  1.49858243e+03  6.70581550e+00 ...  1.60553929e+01\n",
      "    1.70089741e+01  1.60553929e+01]\n",
      "  [ 8.02670892e+00  6.70581550e+00  7.29698711e+01 ...  1.80839051e+01\n",
      "    1.93324315e+01  1.80839051e+01]\n",
      "  ...\n",
      "  [ 1.36714922e+01  1.60553929e+01  1.80839051e+01 ...  4.11943099e+02\n",
      "    4.38556222e+02  4.11943098e+02]\n",
      "  [ 1.41870474e+01  1.70089741e+01  1.93324315e+01 ...  4.38556222e+02\n",
      "    4.72226755e+02  4.38556222e+02]\n",
      "  [ 1.36714922e+01  1.60553929e+01  1.80839051e+01 ...  4.11943098e+02\n",
      "    4.38556222e+02  4.11943099e+02]]\n",
      "\n",
      " [[ 2.11904312e+01  3.58440589e+00  4.55041862e+00 ...  2.08402594e-22\n",
      "    2.24675498e-22  2.08402594e-22]\n",
      "  [ 3.58440589e+00  1.60423786e+01  5.48205295e+00 ...  2.25320746e-22\n",
      "    2.42914583e-22  2.25320746e-22]\n",
      "  [ 4.55041862e+00  5.48205295e+00  4.93309542e+01 ...  1.49599365e-21\n",
      "    1.61280028e-21  1.49599365e-21]\n",
      "  ...\n",
      "  [ 2.08402647e-22  2.25320677e-22  1.49599351e-21 ...  1.00000000e-06\n",
      "    5.05665040e-22  4.69040488e-22]\n",
      "  [ 2.24675696e-22  2.42914711e-22  1.61280019e-21 ...  5.05665040e-22\n",
      "    1.00000000e-06  5.05665040e-22]\n",
      "  [ 2.08402647e-22  2.25320677e-22  1.49599351e-21 ...  4.69040488e-22\n",
      "    5.05665040e-22  1.00000000e-06]]\n",
      "\n",
      " [[ 2.35677144e+01  5.49057465e+00  5.89530858e+00 ...  3.01916380e+01\n",
      "    2.72596187e+01  2.73771986e+01]\n",
      "  [ 5.49057465e+00  2.59353273e+01  8.48423477e+00 ...  1.62158775e+01\n",
      "    1.89745684e+01  1.64895162e+01]\n",
      "  [ 5.89530858e+00  8.48423477e+00  6.41916406e+01 ... -8.85113598e+00\n",
      "   -7.46469407e+00 -8.19003755e+00]\n",
      "  ...\n",
      "  [ 3.01916380e+01  1.62158775e+01 -8.85113598e+00 ...  9.00644506e+02\n",
      "    8.17417945e+02  8.03250034e+02]\n",
      "  [ 2.72596187e+01  1.89745684e+01 -7.46469407e+00 ...  8.17417945e+02\n",
      "    8.60259073e+02  8.27936548e+02]\n",
      "  [ 2.73771986e+01  1.64895162e+01 -8.19003755e+00 ...  8.03250034e+02\n",
      "    8.27936548e+02  8.19373708e+02]]]\n"
     ]
    }
   ],
   "source": [
    "print(gmm.means_)\n",
    "print('\\n')\n",
    "print(gmm.covariances_)"
   ]
  },
  {
   "cell_type": "code",
   "execution_count": 19,
   "metadata": {},
   "outputs": [],
   "source": [
    "dt1 = pd.read_csv('boxing-test.csv')"
   ]
  },
  {
   "cell_type": "code",
   "execution_count": 20,
   "metadata": {},
   "outputs": [],
   "source": [
    "dtf = dt1.drop('result',1) #test feature set"
   ]
  },
  {
   "cell_type": "code",
   "execution_count": 21,
   "metadata": {},
   "outputs": [],
   "source": [
    "p= gmm.predict(dtf)"
   ]
  },
  {
   "cell_type": "code",
   "execution_count": 22,
   "metadata": {},
   "outputs": [
    {
     "data": {
      "text/plain": [
       "array([[0.00000000e+000, 0.00000000e+000, 1.00000000e+000],\n",
       "       [5.87639223e-036, 1.00000000e+000, 8.66474631e-025],\n",
       "       [0.00000000e+000, 0.00000000e+000, 1.00000000e+000],\n",
       "       [1.93552626e-017, 1.00000000e+000, 6.20392049e-025],\n",
       "       [0.00000000e+000, 0.00000000e+000, 1.00000000e+000],\n",
       "       [0.00000000e+000, 0.00000000e+000, 1.00000000e+000],\n",
       "       [2.33835164e-195, 1.00000000e+000, 5.96352156e-025],\n",
       "       [6.67804683e-016, 1.00000000e+000, 2.73772605e-024],\n",
       "       [3.08037341e-015, 1.00000000e+000, 1.84871635e-025],\n",
       "       [2.35527353e-012, 1.00000000e+000, 1.17032124e-024]])"
      ]
     },
     "execution_count": 22,
     "metadata": {},
     "output_type": "execute_result"
    }
   ],
   "source": [
    "gmm.predict_proba(dtf)[0:10]"
   ]
  },
  {
   "cell_type": "code",
   "execution_count": 23,
   "metadata": {},
   "outputs": [],
   "source": [
    "lable = pd.factorize(dt1['result'])[0]"
   ]
  },
  {
   "cell_type": "code",
   "execution_count": 24,
   "metadata": {},
   "outputs": [
    {
     "data": {
      "text/html": [
       "<div>\n",
       "<style scoped>\n",
       "    .dataframe tbody tr th:only-of-type {\n",
       "        vertical-align: middle;\n",
       "    }\n",
       "\n",
       "    .dataframe tbody tr th {\n",
       "        vertical-align: top;\n",
       "    }\n",
       "\n",
       "    .dataframe thead th {\n",
       "        text-align: right;\n",
       "    }\n",
       "</style>\n",
       "<table border=\"1\" class=\"dataframe\">\n",
       "  <thead>\n",
       "    <tr style=\"text-align: right;\">\n",
       "      <th>col_0</th>\n",
       "      <th>0</th>\n",
       "      <th>1</th>\n",
       "      <th>2</th>\n",
       "    </tr>\n",
       "    <tr>\n",
       "      <th>row_0</th>\n",
       "      <th></th>\n",
       "      <th></th>\n",
       "      <th></th>\n",
       "    </tr>\n",
       "  </thead>\n",
       "  <tbody>\n",
       "    <tr>\n",
       "      <th>0</th>\n",
       "      <td>162</td>\n",
       "      <td>314</td>\n",
       "      <td>5863</td>\n",
       "    </tr>\n",
       "    <tr>\n",
       "      <th>1</th>\n",
       "      <td>8108</td>\n",
       "      <td>12877</td>\n",
       "      <td>103678</td>\n",
       "    </tr>\n",
       "    <tr>\n",
       "      <th>2</th>\n",
       "      <td>1669</td>\n",
       "      <td>3033</td>\n",
       "      <td>19267</td>\n",
       "    </tr>\n",
       "  </tbody>\n",
       "</table>\n",
       "</div>"
      ],
      "text/plain": [
       "col_0     0      1       2\n",
       "row_0                     \n",
       "0       162    314    5863\n",
       "1      8108  12877  103678\n",
       "2      1669   3033   19267"
      ]
     },
     "execution_count": 24,
     "metadata": {},
     "output_type": "execute_result"
    }
   ],
   "source": [
    "pd.crosstab(p,lable)"
   ]
  },
  {
   "cell_type": "code",
   "execution_count": 25,
   "metadata": {},
   "outputs": [
    {
     "data": {
      "text/plain": [
       "array([[   162,   8108,   1669],\n",
       "       [   314,  12877,   3033],\n",
       "       [  5863, 103678,  19267]], dtype=int64)"
      ]
     },
     "execution_count": 25,
     "metadata": {},
     "output_type": "execute_result"
    }
   ],
   "source": [
    "sk.confusion_matrix(lable, p)"
   ]
  },
  {
   "cell_type": "code",
   "execution_count": null,
   "metadata": {},
   "outputs": [],
   "source": []
  }
 ],
 "metadata": {
  "kernelspec": {
   "display_name": "Python 3",
   "language": "python",
   "name": "python3"
  },
  "language_info": {
   "codemirror_mode": {
    "name": "ipython",
    "version": 3
   },
   "file_extension": ".py",
   "mimetype": "text/x-python",
   "name": "python",
   "nbconvert_exporter": "python",
   "pygments_lexer": "ipython3",
   "version": "3.6.4"
  }
 },
 "nbformat": 4,
 "nbformat_minor": 2
}
